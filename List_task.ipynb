{
 "cells": [
  {
   "cell_type": "markdown",
   "id": "6959f29c",
   "metadata": {},
   "source": [
    "# List task"
   ]
  },
  {
   "cell_type": "markdown",
   "id": "6a26c68a",
   "metadata": {},
   "source": [
    "## 1.Write a program to sum all the items and multiply all the items"
   ]
  },
  {
   "cell_type": "code",
   "execution_count": 2,
   "id": "266f370a",
   "metadata": {},
   "outputs": [
    {
     "name": "stdout",
     "output_type": "stream",
     "text": [
      "27\n"
     ]
    }
   ],
   "source": [
    "# sum of all the items in a list\n",
    "l=[1,2,3,4,5,6,6]\n",
    "total=0\n",
    "for i in range(0,len(l)):\n",
    "    total=total+l[i]\n",
    "print(total)"
   ]
  },
  {
   "cell_type": "code",
   "execution_count": 7,
   "id": "8a0cd59d",
   "metadata": {},
   "outputs": [
    {
     "name": "stdout",
     "output_type": "stream",
     "text": [
      "720\n"
     ]
    }
   ],
   "source": [
    "# multiply all the items in a list\n",
    "l=[1,2,3,4,5,6]\n",
    "def multiplylist(l):\n",
    "    result=1\n",
    "    for x in l:\n",
    "        result=result*x\n",
    "    return result\n",
    "print(multiplylist(l))"
   ]
  },
  {
   "cell_type": "markdown",
   "id": "b6125149",
   "metadata": {},
   "source": [
    "# 2.Write a python function that takes two lists and returns True if they have at least one common member."
   ]
  },
  {
   "cell_type": "code",
   "execution_count": 10,
   "id": "b0c50630",
   "metadata": {},
   "outputs": [
    {
     "name": "stdout",
     "output_type": "stream",
     "text": [
      "True\n",
      "None\n"
     ]
    }
   ],
   "source": [
    "def common_data(list1,list2):\n",
    "    result=False\n",
    "    for x in list1:\n",
    "        for y in list2:\n",
    "            if x==y:\n",
    "                result=True\n",
    "                return result\n",
    "print(common_data([1,2,3,4,5],[5,6,7,8,9,10]))\n",
    "print(common_data([1,2,3,4,5],[6,7,8,9,10]))"
   ]
  },
  {
   "cell_type": "markdown",
   "id": "7f6a23dc",
   "metadata": {},
   "source": [
    "# 3.Write a program to compute the difference between two lists."
   ]
  },
  {
   "cell_type": "code",
   "execution_count": 14,
   "id": "8f672de0",
   "metadata": {},
   "outputs": [
    {
     "name": "stdout",
     "output_type": "stream",
     "text": [
      "['red', 'orange', 'white']\n"
     ]
    }
   ],
   "source": [
    "color1=[\"red\",\"orange\",\"green\",\"blue\",\"white\"]\n",
    "color2=[\"black\",\"yellow\",\"green\",\"blue\"]\n",
    "temp=[]\n",
    "for i in color1:\n",
    "    if i not in color2:\n",
    "        temp.append(i)\n",
    "print(temp)\n",
    "        "
   ]
  },
  {
   "cell_type": "code",
   "execution_count": 15,
   "id": "f83278e3",
   "metadata": {},
   "outputs": [
    {
     "name": "stdout",
     "output_type": "stream",
     "text": [
      "['black', 'yellow']\n"
     ]
    }
   ],
   "source": [
    "color1=[\"red\",\"orange\",\"green\",\"blue\",\"white\"]\n",
    "color2=[\"black\",\"yellow\",\"green\",\"blue\"]\n",
    "temp=[]\n",
    "for i in color2:\n",
    "    if i not in color1:\n",
    "        temp.append(i)\n",
    "print(temp)\n",
    "        "
   ]
  },
  {
   "cell_type": "code",
   "execution_count": null,
   "id": "4f457954",
   "metadata": {},
   "outputs": [],
   "source": [
    "\n",
    "\n",
    "    "
   ]
  },
  {
   "cell_type": "code",
   "execution_count": null,
   "id": "172fdaef",
   "metadata": {},
   "outputs": [],
   "source": []
  }
 ],
 "metadata": {
  "kernelspec": {
   "display_name": "Python 3 (ipykernel)",
   "language": "python",
   "name": "python3"
  },
  "language_info": {
   "codemirror_mode": {
    "name": "ipython",
    "version": 3
   },
   "file_extension": ".py",
   "mimetype": "text/x-python",
   "name": "python",
   "nbconvert_exporter": "python",
   "pygments_lexer": "ipython3",
   "version": "3.9.12"
  }
 },
 "nbformat": 4,
 "nbformat_minor": 5
}
